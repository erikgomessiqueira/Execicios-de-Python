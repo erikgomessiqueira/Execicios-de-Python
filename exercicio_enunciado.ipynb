{
 "cells": [
  {
   "attachments": {},
   "cell_type": "markdown",
   "metadata": {},
   "source": [
    "Faça um programa que peça ao usuário para digitar um número inteiro,\n",
    "informe se este número é par ou ímpar. Caso o usuário não digite um número\n",
    "inteiro, informe que não é um número inteiro."
   ]
  },
  {
   "cell_type": "code",
   "execution_count": null,
   "metadata": {},
   "outputs": [
    {
     "ename": "",
     "evalue": "",
     "output_type": "error",
     "traceback": [
      "\u001b[1;31mRunning cells with 'venv' requires ipykernel package.\n",
      "\u001b[1;31mRun the following command to install 'ipykernel' into the Python environment. \n",
      "\u001b[1;31mCommand: '/home/erikgomessiqueira/Documentos/Projects/Python/venv/bin/python -m pip install ipykernel -U --force-reinstall'"
     ]
    }
   ],
   "source": [
    "value_input = input('Digite um numero inteiro: ')\n",
    "\n",
    "try:\n",
    "    number_int = int(value_input)\n",
    "    is_even_number = number_int%2 == 0\n",
    "    \n",
    "    if is_even_number:\n",
    "        print('O número é par')\n",
    "    else:\n",
    "        print('O número é impar')\n",
    "except:\n",
    "    print('O valor digitado não pode ser aceito')"
   ]
  }
 ],
 "metadata": {
  "kernelspec": {
   "display_name": "venv",
   "language": "python",
   "name": "python3"
  },
  "language_info": {
   "name": "python",
   "version": "3.10.6 (main, Nov 14 2022, 16:10:14) [GCC 11.3.0]"
  },
  "orig_nbformat": 4,
  "vscode": {
   "interpreter": {
    "hash": "a6f6453a572a18d22793a688ff4abe8a26570d0a4ebd71d8df0f08de069226f2"
   }
  }
 },
 "nbformat": 4,
 "nbformat_minor": 2
}
